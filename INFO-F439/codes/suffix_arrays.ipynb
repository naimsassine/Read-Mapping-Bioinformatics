{
 "metadata": {
  "language_info": {
   "codemirror_mode": {
    "name": "ipython",
    "version": 3
   },
   "file_extension": ".py",
   "mimetype": "text/x-python",
   "name": "python",
   "nbconvert_exporter": "python",
   "pygments_lexer": "ipython3",
   "version": "3.7.3"
  },
  "orig_nbformat": 2,
  "kernelspec": {
   "name": "python373jvsc74a57bd08187d3e00e9314088b4db055fab18fc740fa93fa595f491760786f6c84731dae",
   "display_name": "Python 3.7.3 64-bit ('3.7.3': pyenv)"
  }
 },
 "nbformat": 4,
 "nbformat_minor": 2,
 "cells": [
  {
   "cell_type": "code",
   "execution_count": 11,
   "metadata": {},
   "outputs": [],
   "source": [
    "# create a function that will read the genome file .fa, and put it into a string, put a $ at the end and something at the beginning to start at 1\n",
    "file = open('../dataset/dm6_chr2L.fa.fa')\n",
    "\n",
    "line = file.read().replace(\"\\n\", \"\")\n",
    "file.close()"
   ]
  },
  {
   "cell_type": "code",
   "execution_count": 23,
   "metadata": {},
   "outputs": [],
   "source": [
    "genome = \"#\" + line[6:] + \"$\""
   ]
  },
  {
   "cell_type": "code",
   "execution_count": 27,
   "metadata": {},
   "outputs": [
    {
     "output_type": "execute_result",
     "data": {
      "text/plain": [
       "'$'"
      ]
     },
     "metadata": {},
     "execution_count": 27
    }
   ],
   "source": [
    "# create a dictionary where you would have : \n",
    "# 1-> ABCDT$\n",
    "# 2 -> BCDT$\n",
    "# 3 -> CDT$\n",
    "dico = {}\n",
    " for i in range(1, len(genome)) : \n",
    "     dico[i] = genome[i:]"
   ]
  },
  {
   "cell_type": "code",
   "execution_count": null,
   "metadata": {},
   "outputs": [],
   "source": []
  }
 ]
}